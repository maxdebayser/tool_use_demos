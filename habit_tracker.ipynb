{
 "cells": [
  {
   "cell_type": "markdown",
   "id": "d1e8009e-faad-45b1-9644-6653062a5651",
   "metadata": {},
   "source": [
    "# Habit Tracker App using ibm-granite/granite-20b-functioncalling\n",
    "\n",
    "This notebook is heavily based on this one: [https://github.com/curiousily/AI-Bootcamp/blob/master/16.llm-function-calling.ipynb](16.llm-function-calling.ipynb). Also do checkout the amazing [YouTube tutorial on tool use](https://www.youtube.com/watch?v=5XFqrAG0OIk) by its author. \n",
    "\n",
    "What is different in this version is basically the model and the backend using vLLM. The model by default comes with a `chat_template` that does work for the example code on the Huggingface page, but doesn't support several turns. Also the tool use API in vLLM doesn't seem to be 100% compatible with the `openai` client libraries yet. Because of these differences, this notebook used the completions API instead of the chat API and parses the answers manually\n"
   ]
  },
  {
   "cell_type": "code",
   "execution_count": 70,
   "id": "df54fc5b-a76f-4a34-8466-7949b348c6af",
   "metadata": {},
   "outputs": [],
   "source": [
    "!pip install -Uqqq pip --progress-bar off\n",
    "!pip install -qqq transformers==4.44.0 openai==1.40.3 --progress-bar off"
   ]
  },
  {
   "cell_type": "code",
   "execution_count": 1,
   "id": "3d63ab81-4376-4ec4-bfca-ad3ae68747bc",
   "metadata": {},
   "outputs": [],
   "source": [
    "import json\n",
    "import os\n",
    "import sqlite3\n",
    "from dataclasses import dataclass\n",
    "from datetime import date\n",
    "from enum import Enum, auto\n",
    "from typing import List, Set"
   ]
  },
  {
   "cell_type": "code",
   "execution_count": 2,
   "id": "5c7bd925-b547-4db7-8593-9af78e2f0460",
   "metadata": {},
   "outputs": [],
   "source": [
    "import openai\n",
    "openai.api_key = '...'\n",
    "openai.base_url = \"http://0.0.0.0:8000/v1/\"\n",
    "MODEL = \"ibm-granite/granite-20b-functioncalling\""
   ]
  },
  {
   "cell_type": "code",
   "execution_count": 3,
   "id": "6f9107c5-c54e-4c92-8d2d-04cf795bff99",
   "metadata": {},
   "outputs": [],
   "source": [
    "DB_NAME = \"habit_tracker.db\"\n",
    "\n",
    "\n",
    "class DayOfWeek(Enum):\n",
    "    MONDAY = auto()\n",
    "    TUESDAY = auto()\n",
    "    WEDNESDAY = auto()\n",
    "    THURSDAY = auto()\n",
    "    FRIDAY = auto()\n",
    "    SATURDAY = auto()\n",
    "    SUNDAY = auto()\n",
    "\n",
    "\n",
    "@dataclass\n",
    "class Habit:\n",
    "    id: int\n",
    "    name: str\n",
    "    repeat_frequency: Set[DayOfWeek]\n",
    "    tags: List[str]\n",
    "\n",
    "\n",
    "@dataclass\n",
    "class DailyHabitEntry:\n",
    "    id: int\n",
    "    name: str\n",
    "    tags: List[str]\n",
    "    is_completed: bool\n",
    "\n",
    "\n",
    "def get_connection():\n",
    "    return sqlite3.connect(DB_NAME)\n",
    "\n",
    "\n",
    "def create_tables():\n",
    "    with get_connection() as conn:\n",
    "        cursor = conn.cursor()\n",
    "        cursor.execute(\n",
    "            \"\"\"\n",
    "            CREATE TABLE IF NOT EXISTS habits (\n",
    "                id INTEGER PRIMARY KEY AUTOINCREMENT,\n",
    "                name TEXT NOT NULL,\n",
    "                repeat_frequency TEXT NOT NULL,\n",
    "                tags TEXT NOT NULL\n",
    "            )\n",
    "        \"\"\"\n",
    "        )\n",
    "        cursor.execute(\n",
    "            \"\"\"\n",
    "            CREATE TABLE IF NOT EXISTS completions (\n",
    "                habit_id INTEGER,\n",
    "                completion_date TEXT,\n",
    "                PRIMARY KEY (habit_id, completion_date),\n",
    "                FOREIGN KEY (habit_id) REFERENCES habits (id)\n",
    "            )\n",
    "        \"\"\"\n",
    "        )\n",
    "        conn.commit()\n",
    "\n",
    "\n",
    "def list_habits() -> List[Habit]:\n",
    "    with get_connection() as conn:\n",
    "        cursor = conn.cursor()\n",
    "        cursor.execute(\"SELECT * FROM habits\")\n",
    "        return [\n",
    "            Habit(\n",
    "                id,\n",
    "                name,\n",
    "                {DayOfWeek[day] for day in freq.split(\",\")},\n",
    "                tags.split(\",\"),\n",
    "            )\n",
    "            for id, name, freq, tags in cursor.fetchall()\n",
    "        ]\n",
    "\n",
    "\n",
    "def habits_for_date(date: date) -> List[DailyHabitEntry]:\n",
    "    weekday = DayOfWeek(date.weekday() + 1).name\n",
    "    with get_connection() as conn:\n",
    "        cursor = conn.cursor()\n",
    "        cursor.execute(\n",
    "            \"\"\"\n",
    "            SELECT h.id, h.name, h.tags, c.completion_date IS NOT NULL as completed\n",
    "            FROM habits h\n",
    "            LEFT JOIN completions c ON h.id = c.habit_id AND c.completion_date = ?\n",
    "            WHERE instr(h.repeat_frequency, ?) > 0\n",
    "        \"\"\",\n",
    "            (date.isoformat(), weekday),\n",
    "        )\n",
    "        return [\n",
    "            DailyHabitEntry(id, name, tags.split(\",\"), bool(completed))\n",
    "            for id, name, tags, completed in cursor.fetchall()\n",
    "        ]\n",
    "\n",
    "\n",
    "def complete_habit(habit_id: int, completion_date: date):\n",
    "    with get_connection() as conn:\n",
    "        cursor = conn.cursor()\n",
    "        cursor.execute(\n",
    "            \"\"\"\n",
    "            INSERT OR REPLACE INTO completions (habit_id, completion_date)\n",
    "            VALUES (?, ?)\n",
    "        \"\"\",\n",
    "            (habit_id, completion_date.isoformat()),\n",
    "        )\n",
    "        conn.commit()\n",
    "\n",
    "\n",
    "def add_habit(name: str, repeat_frequency: Set[DayOfWeek], tags: List[str] = []) -> int:\n",
    "    with get_connection() as conn:\n",
    "        cursor = conn.cursor()\n",
    "        cursor.execute(\n",
    "            \"\"\"\n",
    "            INSERT INTO habits (name, repeat_frequency, tags)\n",
    "            VALUES (?, ?, ?)\n",
    "        \"\"\",\n",
    "            (name, \",\".join(day.name for day in repeat_frequency), \",\".join(tags)),\n",
    "        )\n",
    "        conn.commit()\n",
    "        return cursor.lastrowid\n",
    "\n",
    "\n",
    "def show_habits_for_date(date: date):\n",
    "    print(f\"Habits for {date}:\")\n",
    "    for entry in habits_for_date(date):\n",
    "        status = \"Completed\" if entry.is_completed else \"Not completed\"\n",
    "        print(f\"- {entry.name} (ID: {entry.id}): {status}\")\n",
    "        print(f\"  Tags: {', '.join(entry.tags)}\")\n",
    "\n",
    "\n",
    "create_tables()"
   ]
  },
  {
   "cell_type": "code",
   "execution_count": 4,
   "id": "52fe9e4a-207e-424d-803a-d984e5ed4ede",
   "metadata": {},
   "outputs": [
    {
     "data": {
      "text/plain": [
       "2"
      ]
     },
     "execution_count": 4,
     "metadata": {},
     "output_type": "execute_result"
    }
   ],
   "source": [
    "add_habit(\n",
    "    \"Hit the gym\",\n",
    "    {DayOfWeek.MONDAY, DayOfWeek.WEDNESDAY, DayOfWeek.FRIDAY},\n",
    "    [\"exercise\", \"fitness\"],\n",
    ")\n",
    "add_habit(\"Feed the llamas\", {DayOfWeek.SATURDAY, DayOfWeek.SUNDAY}, [\"diet\"])"
   ]
  },
  {
   "cell_type": "code",
   "execution_count": 5,
   "id": "1d095a20-8d88-413f-9c40-d74bef9dae10",
   "metadata": {},
   "outputs": [
    {
     "data": {
      "text/plain": [
       "[Habit(id=1, name='Hit the gym', repeat_frequency={<DayOfWeek.WEDNESDAY: 3>, <DayOfWeek.FRIDAY: 5>, <DayOfWeek.MONDAY: 1>}, tags=['exercise', 'fitness']),\n",
       " Habit(id=2, name='Feed the llamas', repeat_frequency={<DayOfWeek.SUNDAY: 7>, <DayOfWeek.SATURDAY: 6>}, tags=['diet'])]"
      ]
     },
     "execution_count": 5,
     "metadata": {},
     "output_type": "execute_result"
    }
   ],
   "source": [
    "list_habits()"
   ]
  },
  {
   "cell_type": "code",
   "execution_count": 6,
   "id": "eb854118-99bf-4a1e-bec0-a0c9e9705f34",
   "metadata": {},
   "outputs": [],
   "source": [
    "TOOLS = [\n",
    "    {\n",
    "        \"type\": \"function\",\n",
    "        \"function\": {\n",
    "            \"name\": \"add_habit\",\n",
    "            \"description\": \"Add a new habit. Returns the id for the habit.\",\n",
    "            \"parameters\": {\n",
    "                \"type\": \"object\",\n",
    "                \"properties\": {\n",
    "                    \"name\": {\n",
    "                        \"type\": \"string\",\n",
    "                        \"description\": \"Name of the habit\",\n",
    "                    },\n",
    "                    \"repeat_frequency\": {\n",
    "                        \"type\": \"array\",\n",
    "                        \"description\": \"Days of week to repeat, e.g. ['MONDAY', 'WEDNESDAY', 'FRIDAY']\",\n",
    "                        \"items\": {\n",
    "                            \"type\": \"string\",\n",
    "                            \"enum\": [\n",
    "                                \"MONDAY\",\n",
    "                                \"TUESDAY\",\n",
    "                                \"WEDNESDAY\",\n",
    "                                \"THURSDAY\",\n",
    "                                \"FRIDAY\",\n",
    "                                \"SATURDAY\",\n",
    "                                \"SUNDAY\",\n",
    "                            ],\n",
    "                        },\n",
    "                    },\n",
    "                    \"tags\": {\n",
    "                        \"type\": \"array\",\n",
    "                        \"description\": \"List of tags, e.g. ['health', 'fitness']\",\n",
    "                    },\n",
    "                },\n",
    "                \"required\": [\"name\", \"repeat_frequency\"],\n",
    "            },\n",
    "        },\n",
    "    },\n",
    "    {\n",
    "        \"type\": \"function\",\n",
    "        \"function\": {\n",
    "            \"name\": \"list_habits\",\n",
    "            \"description\": \"Returns a list of all available habits\",\n",
    "        },\n",
    "    },\n",
    "    {\n",
    "        \"type\": \"function\",\n",
    "        \"function\": {\n",
    "            \"name\": \"habits_for_date\",\n",
    "            \"description\": \"Returns a list of habits scheduled for a date\",\n",
    "            \"parameters\": {\n",
    "                \"type\": \"object\",\n",
    "                \"properties\": {\n",
    "                    \"date\": {\n",
    "                        \"type\": \"str\",\n",
    "                        \"description\": \"Date for which to display scheduled habits in ISO format e.g. 2024-11-23\",\n",
    "                    }\n",
    "                },\n",
    "                \"required\": [\"date\"],\n",
    "            },\n",
    "        },\n",
    "    },\n",
    "    {\n",
    "        \"type\": \"function\",\n",
    "        \"function\": {\n",
    "            \"name\": \"complete_habit\",\n",
    "            \"description\": \"Completes a specific habit for a given date\",\n",
    "            \"parameters\": {\n",
    "                \"type\": \"object\",\n",
    "                \"properties\": {\n",
    "                    \"habit_id\": {\n",
    "                        \"type\": \"integer\",\n",
    "                        \"description\": \"Id of the habit, e.g. 1\",\n",
    "                    },\n",
    "                    \"completion_date\": {\n",
    "                        \"type\": \"str\",\n",
    "                        \"description\": \"Date for completion of the habit in ISO format e.g. 2024-11-23\",\n",
    "                    },\n",
    "                },\n",
    "                \"required\": [\"habit_id\", \"completion_date\"],\n",
    "            },\n",
    "        },\n",
    "    },\n",
    "]"
   ]
  },
  {
   "cell_type": "code",
   "execution_count": 7,
   "id": "71761067-f04c-4c40-b272-40782c8b1f01",
   "metadata": {},
   "outputs": [],
   "source": [
    "AVAILABLE_FUNCTIONS = {\n",
    "    \"add_habit\": add_habit,\n",
    "    \"list_habits\": list_habits,\n",
    "    \"habits_for_date\": habits_for_date,\n",
    "    \"complete_habit\": complete_habit,\n",
    "}"
   ]
  },
  {
   "cell_type": "code",
   "execution_count": 8,
   "id": "f44e2b93-7bf5-427d-8603-b163a019cd64",
   "metadata": {},
   "outputs": [],
   "source": [
    "argument_mapping = {}\n",
    "argument_mapping[\"repeat_frequency\"] = lambda day_names: [\n",
    "    DayOfWeek[d] for d in day_names\n",
    "]\n",
    "argument_mapping[\"date\"] = lambda d: date.fromisoformat(d)\n",
    "argument_mapping[\"completion_date\"] = lambda d: date.fromisoformat(d)"
   ]
  },
  {
   "cell_type": "code",
   "execution_count": 9,
   "id": "21c8c2f4-55d7-43a0-930b-0391a30681c4",
   "metadata": {},
   "outputs": [
    {
     "name": "stderr",
     "output_type": "stream",
     "text": [
      "/home/maxdebayser/.pyenv/versions/3.11.6/envs/tool_use/lib/python3.11/site-packages/tqdm/auto.py:21: TqdmWarning: IProgress not found. Please update jupyter and ipywidgets. See https://ipywidgets.readthedocs.io/en/stable/user_install.html\n",
      "  from .autonotebook import tqdm as notebook_tqdm\n",
      "None of PyTorch, TensorFlow >= 2.0, or Flax have been found. Models won't be available and only tokenizers, configuration and file/data utilities can be used.\n"
     ]
    }
   ],
   "source": [
    "from transformers import AutoModelForCausalLM, AutoTokenizer\n",
    "\n",
    "model_path = \"ibm-granite/granite-20b-functioncalling\"\n",
    "tokenizer = AutoTokenizer.from_pretrained(model_path)"
   ]
  },
  {
   "cell_type": "code",
   "execution_count": 48,
   "id": "a6ec931f-993f-4ba1-b1c7-f09fc653cf8b",
   "metadata": {},
   "outputs": [
    {
     "name": "stdout",
     "output_type": "stream",
     "text": [
      "SYSTEM: You are a helpful assistant with access to the following functions. Use them if required -\n",
      "<|function_call_library|>\n",
      "{\"name\": \"add_habit\", \"description\": \"Add a new habit. Returns the id for the habit.\", \"parameters\": {\"type\": \"object\", \"properties\": {\"name\": {\"type\": \"string\", \"description\": \"Name of the habit\"}, \"repeat_frequency\": {\"type\": \"array\", \"description\": \"Days of week to repeat, e.g. ['MONDAY', 'WEDNESDAY', 'FRIDAY']\", \"items\": {\"type\": \"string\", \"enum\": [\"MONDAY\", \"TUESDAY\", \"WEDNESDAY\", \"THURSDAY\", \"FRIDAY\", \"SATURDAY\", \"SUNDAY\"]}}, \"tags\": {\"type\": \"array\", \"description\": \"List of tags, e.g. ['health', 'fitness']\"}}, \"required\": [\"name\", \"repeat_frequency\"]}}\n",
      "{\"name\": \"list_habits\", \"description\": \"Returns a list of all available habits\"}\n",
      "{\"name\": \"habits_for_date\", \"description\": \"Returns a list of habits scheduled for a date\", \"parameters\": {\"type\": \"object\", \"properties\": {\"date\": {\"type\": \"str\", \"description\": \"Date for which to display scheduled habits in ISO format e.g. 2024-11-23\"}}, \"required\": [\"date\"]}}\n",
      "{\"name\": \"complete_habit\", \"description\": \"Completes a specific habit for a given date\", \"parameters\": {\"type\": \"object\", \"properties\": {\"habit_id\": {\"type\": \"integer\", \"description\": \"Id of the habit, e.g. 1\"}, \"completion_date\": {\"type\": \"str\", \"description\": \"Date for completion of the habit in ISO format e.g. 2024-11-23\"}}, \"required\": [\"habit_id\", \"completion_date\"]}}\n",
      "\n",
      "If none of the functions are relevant or the given question lacks the parameters required by the function, please output \"<function_call> {\"name\": \"no_function\", \"arguments\": {}}\".\n",
      "\n",
      "\n",
      "USER: Add a new habit for Reading a book every weekday #learning\n",
      "\n",
      "ASSISTANT: \n",
      "\n"
     ]
    },
    {
     "data": {
      "text/plain": [
       "Completion(id='cmpl-b81b9c61c8904d9185512cddc58af8aa', choices=[CompletionChoice(finish_reason='stop', index=0, logprobs=None, text='<function_call> {\"name\": \"add_habit\", \"arguments\": {\"name\": \"Reading a book\", \"repeat_frequency\": [\"MONDAY\", \"WEDNESDAY\", \"FRIDAY\"], \"tags\": [\"learning\"]}} ', stop_reason=None)], created=1723423566, model='ibm-granite/granite-20b-functioncalling', object='text_completion', system_fingerprint=None, usage=CompletionUsage(completion_tokens=54, prompt_tokens=506, total_tokens=560))"
      ]
     },
     "execution_count": 48,
     "metadata": {},
     "output_type": "execute_result"
    }
   ],
   "source": [
    "func_list = [f[\"function\"] for f in TOOLS]\n",
    "user_prompt = \"Add a new habit for Reading a book every weekday #learning\"\n",
    "\n",
    "messages = [\n",
    "    {\n",
    "        \"role\": \"system\",\n",
    "        \"content\": \"You are a helpful assistant with access to the following functions. Use them if required -\"\n",
    "    },\n",
    "    {\n",
    "        \"role\": \"user\",\n",
    "        \"content\": user_prompt,\n",
    "    },\n",
    "#    Uncomment to see the mechanics of the function call in action    \n",
    "#    {\n",
    "#        \"role\": \"assistant\",\n",
    "#        \"content\": \"\"\"<function_call> {\"name\": \"add_habit\", \"arguments\": {\"name\": \"Reading a book\", \"repeat_frequency\": [\"MONDAY\", \"WEDNESDAY\", \"FRIDAY\"], \"tags\": [\"learning\"]}}\"\"\",\n",
    "#    },\n",
    "#    {\n",
    "#        \"role\": \"tool\",\n",
    "#        \"content\": \"<function_response> 3\",\n",
    "#    },\n",
    "]\n",
    "\n",
    "tokenizer.chat_template = \"\"\"{% set funcstr = tools|map(\"tojson\")|join(\\'\\n\\') %}\n",
    "{% for message in messages %}\n",
    "    {% if message['role'] == 'user' %}\n",
    "        {{- '\\nUSER: ' + message['content'] }}\n",
    "    {% elif message['role'] == 'system' %}\n",
    "        {{- 'SYSTEM: ' + message['content'] + '\\n<|function_call_library|>\\n' + funcstr + '\\n\\nIf none of the functions are relevant or the given question lacks the parameters required by the function, please output \"<function_call> {\"name\": \"no_function\", \"arguments\": {}}\".\\n' }}\n",
    "    {% elif message['role'] == 'assistant' %}\n",
    "        {{- '\\nASSISTANT: ' + message['content'] + ' <|endoftext|>'  }}\n",
    "    {% elif message['role'] == 'tool' %}\n",
    "        {{- message['content'] }}\n",
    "    {% endif %}\n",
    "    {% if loop.last and add_generation_prompt %}\n",
    "        {{- '\\nASSISTANT: ' }}\n",
    "    {% endif %}\n",
    "{% endfor %}\n",
    "\"\"\"\n",
    "instruction = tokenizer.apply_chat_template(messages, tools=func_list, tokenize=False, add_generation_prompt=True)\n",
    "print(instruction)\n",
    "\n",
    "response = openai.completions.create(\n",
    "    model=MODEL,\n",
    "    prompt=instruction,\n",
    "    temperature=0,\n",
    "    max_tokens=4096,\n",
    ")\n",
    "response\n"
   ]
  },
  {
   "cell_type": "code",
   "execution_count": 24,
   "id": "ec095a8f-258a-4aad-97c5-6c060d1151d0",
   "metadata": {},
   "outputs": [],
   "source": [
    "tool_calls = [json.loads(s) for s in response.choices[0].text.split(\"<function_call>\") if s.strip()]"
   ]
  },
  {
   "cell_type": "code",
   "execution_count": 25,
   "id": "a2b8b62e-e69a-4e79-8af4-6815b720e3e3",
   "metadata": {},
   "outputs": [],
   "source": [
    "for tool_call in tool_calls:\n",
    "    function_name = tool_call[\"name\"]\n",
    "    function_to_call = AVAILABLE_FUNCTIONS[function_name]\n",
    "    function_args = tool_call[\"arguments\"]"
   ]
  },
  {
   "cell_type": "code",
   "execution_count": 26,
   "id": "44b17223-0336-4431-96fb-d84233f4c375",
   "metadata": {},
   "outputs": [
    {
     "data": {
      "text/plain": [
       "{'name': 'Reading a book',\n",
       " 'repeat_frequency': ['MONDAY', 'WEDNESDAY', 'FRIDAY'],\n",
       " 'tags': ['learning']}"
      ]
     },
     "execution_count": 26,
     "metadata": {},
     "output_type": "execute_result"
    }
   ],
   "source": [
    "function_args"
   ]
  },
  {
   "cell_type": "code",
   "execution_count": 27,
   "id": "9366c398-6f73-4d6f-ac4c-f6a7131112a0",
   "metadata": {},
   "outputs": [
    {
     "data": {
      "text/plain": [
       "['repeat_frequency']"
      ]
     },
     "execution_count": 27,
     "metadata": {},
     "output_type": "execute_result"
    }
   ],
   "source": [
    "arguments_to_map = list(set(function_args.keys()) & set(argument_mapping.keys()))\n",
    "arguments_to_map"
   ]
  },
  {
   "cell_type": "code",
   "execution_count": 28,
   "id": "bdb26565-7cc9-4241-99e7-5a6fcbe6160b",
   "metadata": {},
   "outputs": [],
   "source": [
    "for arg_name in arguments_to_map:\n",
    "    function_args[arg_name] = argument_mapping[arg_name](function_args[arg_name])"
   ]
  },
  {
   "cell_type": "code",
   "execution_count": 29,
   "id": "395e494e-fb27-4aa1-bee8-6a303d957ca5",
   "metadata": {},
   "outputs": [
    {
     "name": "stdout",
     "output_type": "stream",
     "text": [
      "{'name': 'Reading a book', 'repeat_frequency': [<DayOfWeek.MONDAY: 1>, <DayOfWeek.WEDNESDAY: 3>, <DayOfWeek.FRIDAY: 5>], 'tags': ['learning']}\n"
     ]
    }
   ],
   "source": [
    "print(function_args)"
   ]
  },
  {
   "cell_type": "code",
   "execution_count": 30,
   "id": "96f93227-f4b5-4159-878a-e428800a80f3",
   "metadata": {},
   "outputs": [
    {
     "data": {
      "text/plain": [
       "3"
      ]
     },
     "execution_count": 30,
     "metadata": {},
     "output_type": "execute_result"
    }
   ],
   "source": [
    "function_response = function_to_call(**function_args)\n",
    "function_response"
   ]
  },
  {
   "cell_type": "code",
   "execution_count": 31,
   "id": "e964400e-1d5a-479c-8c2d-d13ec185d0b8",
   "metadata": {},
   "outputs": [
    {
     "data": {
      "text/plain": [
       "[Habit(id=1, name='Hit the gym', repeat_frequency={<DayOfWeek.WEDNESDAY: 3>, <DayOfWeek.FRIDAY: 5>, <DayOfWeek.MONDAY: 1>}, tags=['exercise', 'fitness']),\n",
       " Habit(id=2, name='Feed the llamas', repeat_frequency={<DayOfWeek.SUNDAY: 7>, <DayOfWeek.SATURDAY: 6>}, tags=['diet']),\n",
       " Habit(id=3, name='Reading a book', repeat_frequency={<DayOfWeek.WEDNESDAY: 3>, <DayOfWeek.FRIDAY: 5>, <DayOfWeek.MONDAY: 1>}, tags=['learning'])]"
      ]
     },
     "execution_count": 31,
     "metadata": {},
     "output_type": "execute_result"
    }
   ],
   "source": [
    "list_habits()"
   ]
  },
  {
   "cell_type": "code",
   "execution_count": 32,
   "id": "ac909ae1-c836-4aa3-ac18-406efb298d09",
   "metadata": {},
   "outputs": [],
   "source": [
    "def map_arguments(function_args: dict, argument_mapping: dict = argument_mapping):\n",
    "    arguments_to_map = list(set(function_args.keys()) & set(argument_mapping.keys()))\n",
    "    for arg_name in arguments_to_map:\n",
    "        function_args[arg_name] = argument_mapping[arg_name](function_args[arg_name])\n",
    "    return function_args"
   ]
  },
  {
   "cell_type": "code",
   "execution_count": 63,
   "id": "8f93db92-f168-43a3-b4fc-8b99cc2813bb",
   "metadata": {},
   "outputs": [],
   "source": [
    "from dataclasses import dataclass, asdict, is_dataclass\n",
    "\n",
    "class DataClassEncoder(json.JSONEncoder):\n",
    "    def default(self, obj):\n",
    "        if is_dataclass(obj):\n",
    "            return asdict(obj)\n",
    "        return super().default(obj)\n",
    "\n",
    "def call_model(messages):\n",
    "    instruction = tokenizer.apply_chat_template(messages, tools=func_list, tokenize=False, add_generation_prompt=True)\n",
    "    print(instruction)\n",
    "    \n",
    "    response = openai.completions.create(\n",
    "        model=MODEL,\n",
    "        prompt=instruction,\n",
    "        temperature=0,\n",
    "        max_tokens=4096,\n",
    "    )\n",
    "\n",
    "    assert len(response.choices) == 1, \"Don't know how to handle multiple choices\"\n",
    "    return response.choices[0].text\n",
    "\n",
    "def call_function(prompt, messages: List) -> List:\n",
    "    messages.append(\n",
    "        {\n",
    "            \"role\": \"user\",\n",
    "            \"content\": prompt,\n",
    "        }\n",
    "    )\n",
    "    \n",
    "    response_message = call_model(messages)\n",
    "    messages.append({\"role\": \"assistant\", \"content\": response_message})\n",
    "\n",
    "    tool_calls = [json.loads(s) for s in response_message.split(\"<function_call>\") if s.strip()]\n",
    "\n",
    "    for tool_call in tool_calls:\n",
    "        function_name = tool_call[\"name\"]\n",
    "        function_to_call = AVAILABLE_FUNCTIONS[function_name]\n",
    "        function_args = tool_call[\"arguments\"]\n",
    "        function_args = map_arguments(function_args, argument_mapping)\n",
    "\n",
    "        function_response = function_to_call(**function_args)\n",
    "        if function_response is not None:\n",
    "            function_response = json.dumps(function_response, cls=DataClassEncoder)\n",
    "        else:\n",
    "            function_response = \"{}\"\n",
    "        messages.append(\n",
    "            {\n",
    "                \"role\": \"tool\",\n",
    "                \"content\": \"<function_response> \" + function_response,\n",
    "            }\n",
    "        )\n",
    "        response_message = call_model(messages)\n",
    "        messages.append({\"role\": \"assistant\", \"content\": response_message})\n",
    "    return messages\n",
    "\n",
    "def start_messages():\n",
    "    return [\n",
    "        {\n",
    "            \"role\": \"system\",\n",
    "            \"content\": \"You are a helpful assistant with access to the following functions. Use them if required -\"\n",
    "        }\n",
    "    ]\n",
    "messages = start_messages()"
   ]
  },
  {
   "cell_type": "code",
   "execution_count": 64,
   "id": "8851aeaa-0f91-43c1-af3a-4db0f8ac6b96",
   "metadata": {},
   "outputs": [
    {
     "name": "stdout",
     "output_type": "stream",
     "text": [
      "Habits for 2024-07-26:\n",
      "- Hit the gym (ID: 1): Not completed\n",
      "  Tags: exercise, fitness\n",
      "- Reading a book (ID: 3): Not completed\n",
      "  Tags: learning\n"
     ]
    }
   ],
   "source": [
    "today = date(2024, 7, 26)\n",
    "show_habits_for_date(today)"
   ]
  },
  {
   "cell_type": "code",
   "execution_count": 65,
   "id": "71f7c3fc-b566-4c09-8aa6-186abe497c4d",
   "metadata": {},
   "outputs": [
    {
     "name": "stdout",
     "output_type": "stream",
     "text": [
      "SYSTEM: You are a helpful assistant with access to the following functions. Use them if required -\n",
      "<|function_call_library|>\n",
      "{\"name\": \"add_habit\", \"description\": \"Add a new habit. Returns the id for the habit.\", \"parameters\": {\"type\": \"object\", \"properties\": {\"name\": {\"type\": \"string\", \"description\": \"Name of the habit\"}, \"repeat_frequency\": {\"type\": \"array\", \"description\": \"Days of week to repeat, e.g. ['MONDAY', 'WEDNESDAY', 'FRIDAY']\", \"items\": {\"type\": \"string\", \"enum\": [\"MONDAY\", \"TUESDAY\", \"WEDNESDAY\", \"THURSDAY\", \"FRIDAY\", \"SATURDAY\", \"SUNDAY\"]}}, \"tags\": {\"type\": \"array\", \"description\": \"List of tags, e.g. ['health', 'fitness']\"}}, \"required\": [\"name\", \"repeat_frequency\"]}}\n",
      "{\"name\": \"list_habits\", \"description\": \"Returns a list of all available habits\"}\n",
      "{\"name\": \"habits_for_date\", \"description\": \"Returns a list of habits scheduled for a date\", \"parameters\": {\"type\": \"object\", \"properties\": {\"date\": {\"type\": \"str\", \"description\": \"Date for which to display scheduled habits in ISO format e.g. 2024-11-23\"}}, \"required\": [\"date\"]}}\n",
      "{\"name\": \"complete_habit\", \"description\": \"Completes a specific habit for a given date\", \"parameters\": {\"type\": \"object\", \"properties\": {\"habit_id\": {\"type\": \"integer\", \"description\": \"Id of the habit, e.g. 1\"}, \"completion_date\": {\"type\": \"str\", \"description\": \"Date for completion of the habit in ISO format e.g. 2024-11-23\"}}, \"required\": [\"habit_id\", \"completion_date\"]}}\n",
      "\n",
      "If none of the functions are relevant or the given question lacks the parameters required by the function, please output \"<function_call> {\"name\": \"no_function\", \"arguments\": {}}\".\n",
      "\n",
      "\n",
      "USER: Show all habits for today - 2024-07-26\n",
      "\n",
      "ASSISTANT: \n",
      "\n",
      "SYSTEM: You are a helpful assistant with access to the following functions. Use them if required -\n",
      "<|function_call_library|>\n",
      "{\"name\": \"add_habit\", \"description\": \"Add a new habit. Returns the id for the habit.\", \"parameters\": {\"type\": \"object\", \"properties\": {\"name\": {\"type\": \"string\", \"description\": \"Name of the habit\"}, \"repeat_frequency\": {\"type\": \"array\", \"description\": \"Days of week to repeat, e.g. ['MONDAY', 'WEDNESDAY', 'FRIDAY']\", \"items\": {\"type\": \"string\", \"enum\": [\"MONDAY\", \"TUESDAY\", \"WEDNESDAY\", \"THURSDAY\", \"FRIDAY\", \"SATURDAY\", \"SUNDAY\"]}}, \"tags\": {\"type\": \"array\", \"description\": \"List of tags, e.g. ['health', 'fitness']\"}}, \"required\": [\"name\", \"repeat_frequency\"]}}\n",
      "{\"name\": \"list_habits\", \"description\": \"Returns a list of all available habits\"}\n",
      "{\"name\": \"habits_for_date\", \"description\": \"Returns a list of habits scheduled for a date\", \"parameters\": {\"type\": \"object\", \"properties\": {\"date\": {\"type\": \"str\", \"description\": \"Date for which to display scheduled habits in ISO format e.g. 2024-11-23\"}}, \"required\": [\"date\"]}}\n",
      "{\"name\": \"complete_habit\", \"description\": \"Completes a specific habit for a given date\", \"parameters\": {\"type\": \"object\", \"properties\": {\"habit_id\": {\"type\": \"integer\", \"description\": \"Id of the habit, e.g. 1\"}, \"completion_date\": {\"type\": \"str\", \"description\": \"Date for completion of the habit in ISO format e.g. 2024-11-23\"}}, \"required\": [\"habit_id\", \"completion_date\"]}}\n",
      "\n",
      "If none of the functions are relevant or the given question lacks the parameters required by the function, please output \"<function_call> {\"name\": \"no_function\", \"arguments\": {}}\".\n",
      "\n",
      "\n",
      "USER: Show all habits for today - 2024-07-26\n",
      "\n",
      "ASSISTANT: <function_call> {\"name\": \"habits_for_date\", \"arguments\": {\"date\": \"2024-07-26\"}} <|endoftext|>\n",
      "<function_response> [{\"id\": 1, \"name\": \"Hit the gym\", \"tags\": [\"exercise\", \"fitness\"], \"is_completed\": false}, {\"id\": 3, \"name\": \"Reading a book\", \"tags\": [\"learning\"], \"is_completed\": false}]\n",
      "\n",
      "ASSISTANT: \n",
      "\n"
     ]
    },
    {
     "data": {
      "text/plain": [
       "[{'role': 'system',\n",
       "  'content': 'You are a helpful assistant with access to the following functions. Use them if required -'},\n",
       " {'role': 'user', 'content': 'Show all habits for today - 2024-07-26'},\n",
       " {'role': 'assistant',\n",
       "  'content': '<function_call> {\"name\": \"habits_for_date\", \"arguments\": {\"date\": \"2024-07-26\"}}'},\n",
       " {'role': 'tool',\n",
       "  'content': '<function_response> [{\"id\": 1, \"name\": \"Hit the gym\", \"tags\": [\"exercise\", \"fitness\"], \"is_completed\": false}, {\"id\": 3, \"name\": \"Reading a book\", \"tags\": [\"learning\"], \"is_completed\": false}]'},\n",
       " {'role': 'assistant',\n",
       "  'content': '\\n<function_call> {\"name\": \"no_function\", \"arguments\": {}} '}]"
      ]
     },
     "execution_count": 65,
     "metadata": {},
     "output_type": "execute_result"
    }
   ],
   "source": [
    "user_prompt = f\"Show all habits for today - {today.isoformat()}\"\n",
    "call_function(user_prompt, messages)"
   ]
  },
  {
   "cell_type": "code",
   "execution_count": 67,
   "id": "fcc0fb98-d2b6-4614-8d4c-c4cba411aed4",
   "metadata": {},
   "outputs": [
    {
     "name": "stdout",
     "output_type": "stream",
     "text": [
      "SYSTEM: You are a helpful assistant with access to the following functions. Use them if required -\n",
      "<|function_call_library|>\n",
      "{\"name\": \"add_habit\", \"description\": \"Add a new habit. Returns the id for the habit.\", \"parameters\": {\"type\": \"object\", \"properties\": {\"name\": {\"type\": \"string\", \"description\": \"Name of the habit\"}, \"repeat_frequency\": {\"type\": \"array\", \"description\": \"Days of week to repeat, e.g. ['MONDAY', 'WEDNESDAY', 'FRIDAY']\", \"items\": {\"type\": \"string\", \"enum\": [\"MONDAY\", \"TUESDAY\", \"WEDNESDAY\", \"THURSDAY\", \"FRIDAY\", \"SATURDAY\", \"SUNDAY\"]}}, \"tags\": {\"type\": \"array\", \"description\": \"List of tags, e.g. ['health', 'fitness']\"}}, \"required\": [\"name\", \"repeat_frequency\"]}}\n",
      "{\"name\": \"list_habits\", \"description\": \"Returns a list of all available habits\"}\n",
      "{\"name\": \"habits_for_date\", \"description\": \"Returns a list of habits scheduled for a date\", \"parameters\": {\"type\": \"object\", \"properties\": {\"date\": {\"type\": \"str\", \"description\": \"Date for which to display scheduled habits in ISO format e.g. 2024-11-23\"}}, \"required\": [\"date\"]}}\n",
      "{\"name\": \"complete_habit\", \"description\": \"Completes a specific habit for a given date\", \"parameters\": {\"type\": \"object\", \"properties\": {\"habit_id\": {\"type\": \"integer\", \"description\": \"Id of the habit, e.g. 1\"}, \"completion_date\": {\"type\": \"str\", \"description\": \"Date for completion of the habit in ISO format e.g. 2024-11-23\"}}, \"required\": [\"habit_id\", \"completion_date\"]}}\n",
      "\n",
      "If none of the functions are relevant or the given question lacks the parameters required by the function, please output \"<function_call> {\"name\": \"no_function\", \"arguments\": {}}\".\n",
      "\n",
      "\n",
      "USER: Complete the gym habit for 2024-07-26\n",
      "\n",
      "ASSISTANT: \n",
      "\n",
      "SYSTEM: You are a helpful assistant with access to the following functions. Use them if required -\n",
      "<|function_call_library|>\n",
      "{\"name\": \"add_habit\", \"description\": \"Add a new habit. Returns the id for the habit.\", \"parameters\": {\"type\": \"object\", \"properties\": {\"name\": {\"type\": \"string\", \"description\": \"Name of the habit\"}, \"repeat_frequency\": {\"type\": \"array\", \"description\": \"Days of week to repeat, e.g. ['MONDAY', 'WEDNESDAY', 'FRIDAY']\", \"items\": {\"type\": \"string\", \"enum\": [\"MONDAY\", \"TUESDAY\", \"WEDNESDAY\", \"THURSDAY\", \"FRIDAY\", \"SATURDAY\", \"SUNDAY\"]}}, \"tags\": {\"type\": \"array\", \"description\": \"List of tags, e.g. ['health', 'fitness']\"}}, \"required\": [\"name\", \"repeat_frequency\"]}}\n",
      "{\"name\": \"list_habits\", \"description\": \"Returns a list of all available habits\"}\n",
      "{\"name\": \"habits_for_date\", \"description\": \"Returns a list of habits scheduled for a date\", \"parameters\": {\"type\": \"object\", \"properties\": {\"date\": {\"type\": \"str\", \"description\": \"Date for which to display scheduled habits in ISO format e.g. 2024-11-23\"}}, \"required\": [\"date\"]}}\n",
      "{\"name\": \"complete_habit\", \"description\": \"Completes a specific habit for a given date\", \"parameters\": {\"type\": \"object\", \"properties\": {\"habit_id\": {\"type\": \"integer\", \"description\": \"Id of the habit, e.g. 1\"}, \"completion_date\": {\"type\": \"str\", \"description\": \"Date for completion of the habit in ISO format e.g. 2024-11-23\"}}, \"required\": [\"habit_id\", \"completion_date\"]}}\n",
      "\n",
      "If none of the functions are relevant or the given question lacks the parameters required by the function, please output \"<function_call> {\"name\": \"no_function\", \"arguments\": {}}\".\n",
      "\n",
      "\n",
      "USER: Complete the gym habit for 2024-07-26\n",
      "\n",
      "ASSISTANT: <function_call> {\"name\": \"complete_habit\", \"arguments\": {\"habit_id\": 1, \"completion_date\": \"2024-07-26\"}} <|endoftext|>\n",
      "<function_response> {}\n",
      "\n",
      "ASSISTANT: \n",
      "\n"
     ]
    },
    {
     "data": {
      "text/plain": [
       "[{'role': 'system',\n",
       "  'content': 'You are a helpful assistant with access to the following functions. Use them if required -'},\n",
       " {'role': 'user', 'content': 'Complete the gym habit for 2024-07-26'},\n",
       " {'role': 'assistant',\n",
       "  'content': '<function_call> {\"name\": \"complete_habit\", \"arguments\": {\"habit_id\": 1, \"completion_date\": \"2024-07-26\"}}'},\n",
       " {'role': 'tool', 'content': '<function_response> {}'},\n",
       " {'role': 'assistant',\n",
       "  'content': \"\\nThe habit 'gym' has been completed for 2024-07-26. \"}]"
      ]
     },
     "execution_count": 67,
     "metadata": {},
     "output_type": "execute_result"
    }
   ],
   "source": [
    "user_prompt = f\"Complete the gym habit for {today.isoformat()}\"\n",
    "call_function(user_prompt, start_messages())"
   ]
  },
  {
   "cell_type": "code",
   "execution_count": 69,
   "id": "9ebbe22e-d3ad-4c35-b441-fad64df79ede",
   "metadata": {},
   "outputs": [
    {
     "name": "stdout",
     "output_type": "stream",
     "text": [
      "Habits for 2024-07-26:\n",
      "- Hit the gym (ID: 1): Completed\n",
      "  Tags: exercise, fitness\n",
      "- Reading a book (ID: 3): Not completed\n",
      "  Tags: learning\n"
     ]
    }
   ],
   "source": [
    "show_habits_for_date(today)"
   ]
  },
  {
   "cell_type": "code",
   "execution_count": null,
   "id": "4f9b8899-c4db-4698-8ddd-3a49b3d827d3",
   "metadata": {},
   "outputs": [],
   "source": []
  }
 ],
 "metadata": {
  "kernelspec": {
   "display_name": "Python 3 (ipykernel)",
   "language": "python",
   "name": "python3"
  },
  "language_info": {
   "codemirror_mode": {
    "name": "ipython",
    "version": 3
   },
   "file_extension": ".py",
   "mimetype": "text/x-python",
   "name": "python",
   "nbconvert_exporter": "python",
   "pygments_lexer": "ipython3",
   "version": "3.11.6"
  }
 },
 "nbformat": 4,
 "nbformat_minor": 5
}
