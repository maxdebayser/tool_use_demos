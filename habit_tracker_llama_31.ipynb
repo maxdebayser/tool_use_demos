{
 "cells": [
  {
   "cell_type": "markdown",
   "metadata": {},
   "source": [
    "# Habit Tracker App using meta-llama/Meta-Llama-3.1-70B-Instruct\n",
    "\n",
    "This notebook is heavily based on this one: [https://github.com/curiousily/AI-Bootcamp/blob/master/16.llm-function-calling.ipynb](16.llm-function-calling.ipynb). Also do checkout the amazing [YouTube tutorial on tool use](https://www.youtube.com/watch?v=5XFqrAG0OIk) by its author. \n",
    "\n",
    "What is different in this version is basically the model and the backend using vLLM. The model by default comes with a `chat_template` that seems to have an error that is fixed in this code. Also the tool use API in vLLM doesn't seem to be 100% compatible with the `openai` client libraries yet. Because of these differences, this notebook used the completions API instead of the chat API and parses the answers manually\n",
    "\n"
   ]
  },
  {
   "cell_type": "code",
   "execution_count": null,
   "metadata": {},
   "outputs": [],
   "source": [
    "!pip install -Uqqq pip --progress-bar off\n",
    "!pip install -qqq transformers==4.44.0 openai==1.40.3 --progress-bar off"
   ]
  },
  {
   "cell_type": "code",
   "execution_count": 37,
   "metadata": {},
   "outputs": [],
   "source": [
    "import json\n",
    "from json.decoder import JSONDecodeError\n",
    "import os\n",
    "import sqlite3\n",
    "from dataclasses import dataclass\n",
    "from datetime import date\n",
    "from enum import Enum, auto\n",
    "from typing import List, Set"
   ]
  },
  {
   "cell_type": "code",
   "execution_count": 38,
   "metadata": {},
   "outputs": [],
   "source": [
    "import json\n",
    "import openai\n",
    "openai.api_key = '...'\n",
    "openai.base_url = \"http://0.0.0.0:8000/v1/\"\n",
    "MODEL = \"meta-llama/Meta-Llama-3.1-70B-Instruct\""
   ]
  },
  {
   "cell_type": "code",
   "execution_count": null,
   "metadata": {},
   "outputs": [],
   "source": [
    "os.environ[\"HF_TOKEN\"]=input()"
   ]
  },
  {
   "cell_type": "code",
   "execution_count": 39,
   "metadata": {},
   "outputs": [],
   "source": [
    "DB_NAME = \"habit_tracker.db\"\n",
    "\n",
    "\n",
    "class DayOfWeek(Enum):\n",
    "    MONDAY = auto()\n",
    "    TUESDAY = auto()\n",
    "    WEDNESDAY = auto()\n",
    "    THURSDAY = auto()\n",
    "    FRIDAY = auto()\n",
    "    SATURDAY = auto()\n",
    "    SUNDAY = auto()\n",
    "\n",
    "\n",
    "@dataclass\n",
    "class Habit:\n",
    "    id: int\n",
    "    name: str\n",
    "    repeat_frequency: Set[DayOfWeek]\n",
    "    tags: List[str]\n",
    "\n",
    "\n",
    "@dataclass\n",
    "class DailyHabitEntry:\n",
    "    id: int\n",
    "    name: str\n",
    "    tags: List[str]\n",
    "    is_completed: bool\n",
    "\n",
    "\n",
    "def get_connection():\n",
    "    return sqlite3.connect(DB_NAME)\n",
    "\n",
    "\n",
    "def create_tables():\n",
    "    with get_connection() as conn:\n",
    "        cursor = conn.cursor()\n",
    "        cursor.execute(\n",
    "            \"\"\"\n",
    "            CREATE TABLE IF NOT EXISTS habits (\n",
    "                id INTEGER PRIMARY KEY AUTOINCREMENT,\n",
    "                name TEXT NOT NULL,\n",
    "                repeat_frequency TEXT NOT NULL,\n",
    "                tags TEXT NOT NULL\n",
    "            )\n",
    "        \"\"\"\n",
    "        )\n",
    "        cursor.execute(\n",
    "            \"\"\"\n",
    "            CREATE TABLE IF NOT EXISTS completions (\n",
    "                habit_id INTEGER,\n",
    "                completion_date TEXT,\n",
    "                PRIMARY KEY (habit_id, completion_date),\n",
    "                FOREIGN KEY (habit_id) REFERENCES habits (id)\n",
    "            )\n",
    "        \"\"\"\n",
    "        )\n",
    "        conn.commit()\n",
    "\n",
    "\n",
    "def list_habits() -> List[Habit]:\n",
    "    with get_connection() as conn:\n",
    "        cursor = conn.cursor()\n",
    "        cursor.execute(\"SELECT * FROM habits\")\n",
    "        return [\n",
    "            Habit(\n",
    "                id,\n",
    "                name,\n",
    "                {DayOfWeek[day] for day in freq.split(\",\")},\n",
    "                tags.split(\",\"),\n",
    "            )\n",
    "            for id, name, freq, tags in cursor.fetchall()\n",
    "        ]\n",
    "\n",
    "\n",
    "def habits_for_date(date: date) -> List[DailyHabitEntry]:\n",
    "    weekday = DayOfWeek(date.weekday() + 1).name\n",
    "    with get_connection() as conn:\n",
    "        cursor = conn.cursor()\n",
    "        cursor.execute(\n",
    "            \"\"\"\n",
    "            SELECT h.id, h.name, h.tags, c.completion_date IS NOT NULL as completed\n",
    "            FROM habits h\n",
    "            LEFT JOIN completions c ON h.id = c.habit_id AND c.completion_date = ?\n",
    "            WHERE instr(h.repeat_frequency, ?) > 0\n",
    "        \"\"\",\n",
    "            (date.isoformat(), weekday),\n",
    "        )\n",
    "        return [\n",
    "            DailyHabitEntry(id, name, tags.split(\",\"), bool(completed))\n",
    "            for id, name, tags, completed in cursor.fetchall()\n",
    "        ]\n",
    "\n",
    "\n",
    "def complete_habit(habit_id: int, completion_date: date):\n",
    "    with get_connection() as conn:\n",
    "        cursor = conn.cursor()\n",
    "        cursor.execute(\n",
    "            \"\"\"\n",
    "            INSERT OR REPLACE INTO completions (habit_id, completion_date)\n",
    "            VALUES (?, ?)\n",
    "        \"\"\",\n",
    "            (habit_id, completion_date.isoformat()),\n",
    "        )\n",
    "        conn.commit()\n",
    "\n",
    "\n",
    "def add_habit(name: str, repeat_frequency: Set[DayOfWeek], tags: List[str] = []) -> int:\n",
    "    with get_connection() as conn:\n",
    "        cursor = conn.cursor()\n",
    "        cursor.execute(\n",
    "            \"\"\"\n",
    "            INSERT INTO habits (name, repeat_frequency, tags)\n",
    "            VALUES (?, ?, ?)\n",
    "        \"\"\",\n",
    "            (name, \",\".join(day.name for day in repeat_frequency), \",\".join(tags)),\n",
    "        )\n",
    "        conn.commit()\n",
    "        return cursor.lastrowid\n",
    "\n",
    "\n",
    "def show_habits_for_date(date: date):\n",
    "    print(f\"Habits for {date}:\")\n",
    "    for entry in habits_for_date(date):\n",
    "        status = \"Completed\" if entry.is_completed else \"Not completed\"\n",
    "        print(f\"- {entry.name} (ID: {entry.id}): {status}\")\n",
    "        print(f\"  Tags: {', '.join(entry.tags)}\")\n",
    "\n",
    "\n",
    "create_tables()"
   ]
  },
  {
   "cell_type": "code",
   "execution_count": 40,
   "metadata": {},
   "outputs": [
    {
     "data": {
      "text/plain": [
       "2"
      ]
     },
     "execution_count": 40,
     "metadata": {},
     "output_type": "execute_result"
    }
   ],
   "source": [
    "add_habit(\n",
    "    \"Hit the gym\",\n",
    "    {DayOfWeek.MONDAY, DayOfWeek.WEDNESDAY, DayOfWeek.FRIDAY},\n",
    "    [\"exercise\", \"fitness\"],\n",
    ")\n",
    "add_habit(\"Feed the llamas\", {DayOfWeek.SATURDAY, DayOfWeek.SUNDAY}, [\"diet\"])"
   ]
  },
  {
   "cell_type": "code",
   "execution_count": 41,
   "metadata": {},
   "outputs": [
    {
     "data": {
      "text/plain": [
       "[Habit(id=1, name='Hit the gym', repeat_frequency={<DayOfWeek.MONDAY: 1>, <DayOfWeek.WEDNESDAY: 3>, <DayOfWeek.FRIDAY: 5>}, tags=['exercise', 'fitness']),\n",
       " Habit(id=2, name='Feed the llamas', repeat_frequency={<DayOfWeek.SATURDAY: 6>, <DayOfWeek.SUNDAY: 7>}, tags=['diet'])]"
      ]
     },
     "execution_count": 41,
     "metadata": {},
     "output_type": "execute_result"
    }
   ],
   "source": [
    "list_habits()"
   ]
  },
  {
   "cell_type": "code",
   "execution_count": 42,
   "metadata": {},
   "outputs": [],
   "source": [
    "TOOLS = [\n",
    "    {\n",
    "        \"type\": \"function\",\n",
    "        \"function\": {\n",
    "            \"name\": \"add_habit\",\n",
    "            \"description\": \"Add a new habit. Returns the id for the habit.\",\n",
    "            \"parameters\": {\n",
    "                \"type\": \"object\",\n",
    "                \"properties\": {\n",
    "                    \"name\": {\n",
    "                        \"type\": \"string\",\n",
    "                        \"description\": \"Name of the habit\",\n",
    "                    },\n",
    "                    \"repeat_frequency\": {\n",
    "                        \"type\": \"array\",\n",
    "                        \"description\": \"Days of week to repeat, e.g. ['MONDAY', 'WEDNESDAY', 'FRIDAY']\",\n",
    "                        \"items\": {\n",
    "                            \"type\": \"string\",\n",
    "                            \"enum\": [\n",
    "                                \"MONDAY\",\n",
    "                                \"TUESDAY\",\n",
    "                                \"WEDNESDAY\",\n",
    "                                \"THURSDAY\",\n",
    "                                \"FRIDAY\",\n",
    "                                \"SATURDAY\",\n",
    "                                \"SUNDAY\",\n",
    "                            ],\n",
    "                        },\n",
    "                    },\n",
    "                    \"tags\": {\n",
    "                        \"type\": \"array\",\n",
    "                        \"description\": \"List of tags, e.g. ['health', 'fitness']\",\n",
    "                    },\n",
    "                },\n",
    "                \"required\": [\"name\", \"repeat_frequency\"],\n",
    "            },\n",
    "        },\n",
    "    },\n",
    "    {\n",
    "        \"type\": \"function\",\n",
    "        \"function\": {\n",
    "            \"name\": \"list_habits\",\n",
    "            \"description\": \"Returns a list of all available habits\",\n",
    "        },\n",
    "    },\n",
    "    {\n",
    "        \"type\": \"function\",\n",
    "        \"function\": {\n",
    "            \"name\": \"habits_for_date\",\n",
    "            \"description\": \"Returns a list of habits scheduled for a date\",\n",
    "            \"parameters\": {\n",
    "                \"type\": \"object\",\n",
    "                \"properties\": {\n",
    "                    \"date\": {\n",
    "                        \"type\": \"str\",\n",
    "                        \"description\": \"Date for which to display scheduled habits in ISO format e.g. 2024-11-23\",\n",
    "                    }\n",
    "                },\n",
    "                \"required\": [\"date\"],\n",
    "            },\n",
    "        },\n",
    "    },\n",
    "    {\n",
    "        \"type\": \"function\",\n",
    "        \"function\": {\n",
    "            \"name\": \"complete_habit\",\n",
    "            \"description\": \"Completes a specific habit for a given date\",\n",
    "            \"parameters\": {\n",
    "                \"type\": \"object\",\n",
    "                \"properties\": {\n",
    "                    \"habit_id\": {\n",
    "                        \"type\": \"integer\",\n",
    "                        \"description\": \"Id of the habit, e.g. 1\",\n",
    "                    },\n",
    "                    \"completion_date\": {\n",
    "                        \"type\": \"str\",\n",
    "                        \"description\": \"Date for completion of the habit in ISO format e.g. 2024-11-23\",\n",
    "                    },\n",
    "                },\n",
    "                \"required\": [\"habit_id\", \"completion_date\"],\n",
    "            },\n",
    "        },\n",
    "    },\n",
    "]"
   ]
  },
  {
   "cell_type": "code",
   "execution_count": 43,
   "metadata": {},
   "outputs": [],
   "source": [
    "AVAILABLE_FUNCTIONS = {\n",
    "    \"add_habit\": add_habit,\n",
    "    \"list_habits\": list_habits,\n",
    "    \"habits_for_date\": habits_for_date,\n",
    "    \"complete_habit\": complete_habit,\n",
    "}"
   ]
  },
  {
   "cell_type": "code",
   "execution_count": 44,
   "metadata": {},
   "outputs": [],
   "source": [
    "argument_mapping = {}\n",
    "argument_mapping[\"repeat_frequency\"] = lambda day_names: [\n",
    "    DayOfWeek[d] for d in day_names\n",
    "]\n",
    "argument_mapping[\"date\"] = lambda d: date.fromisoformat(d)\n",
    "argument_mapping[\"completion_date\"] = lambda d: date.fromisoformat(d)"
   ]
  },
  {
   "cell_type": "code",
   "execution_count": 45,
   "metadata": {},
   "outputs": [],
   "source": [
    "from transformers import AutoTokenizer\n",
    "\n",
    "tokenizer = AutoTokenizer.from_pretrained(MODEL)\n",
    "tokenizer.chat_template = tokenizer.chat_template.replace('argument', 'parameter')\n"
   ]
  },
  {
   "cell_type": "markdown",
   "metadata": {},
   "source": [
    "Here we're going to use the chat template documented at https://llama.meta.com/docs/model-cards-and-prompt-formats/llama3_1/#json-based-tool-calling"
   ]
  },
  {
   "cell_type": "code",
   "execution_count": 46,
   "metadata": {},
   "outputs": [
    {
     "name": "stdout",
     "output_type": "stream",
     "text": [
      "<|begin_of_text|><|start_header_id|>system<|end_header_id|>\n",
      "\n",
      "Cutting Knowledge Date: December 2023\n",
      "Today Date: 26 Jul 2024\n",
      "\n",
      "You are a helpful assistant with tool calling capabilities. When you receive a tool call response, use the output to format an answer to the orginal user question.use variables.<|eot_id|><|start_header_id|>user<|end_header_id|>\n",
      "\n",
      "Given the following functions, please respond with a JSON for a function call with its proper arguments that best answers the given prompt.\n",
      "Respond in the format {\"name\": function name, \"parameters\": dictionary of argument name and its value}. Do not use variables.\n",
      "\n",
      "{\n",
      "    \"type\": \"function\",\n",
      "    \"function\": {\n",
      "        \"name\": \"add_habit\",\n",
      "        \"description\": \"Add a new habit. Returns the id for the habit.\",\n",
      "        \"parameters\": {\n",
      "            \"type\": \"object\",\n",
      "            \"properties\": {\n",
      "                \"name\": {\n",
      "                    \"type\": \"string\",\n",
      "                    \"description\": \"Name of the habit\"\n",
      "                },\n",
      "                \"repeat_frequency\": {\n",
      "                    \"type\": \"array\",\n",
      "                    \"description\": \"Days of week to repeat, e.g. ['MONDAY', 'WEDNESDAY', 'FRIDAY']\",\n",
      "                    \"items\": {\n",
      "                        \"type\": \"string\",\n",
      "                        \"enum\": [\n",
      "                            \"MONDAY\",\n",
      "                            \"TUESDAY\",\n",
      "                            \"WEDNESDAY\",\n",
      "                            \"THURSDAY\",\n",
      "                            \"FRIDAY\",\n",
      "                            \"SATURDAY\",\n",
      "                            \"SUNDAY\"\n",
      "                        ]\n",
      "                    }\n",
      "                },\n",
      "                \"tags\": {\n",
      "                    \"type\": \"array\",\n",
      "                    \"description\": \"List of tags, e.g. ['health', 'fitness']\"\n",
      "                }\n",
      "            },\n",
      "            \"required\": [\n",
      "                \"name\",\n",
      "                \"repeat_frequency\"\n",
      "            ]\n",
      "        }\n",
      "    }\n",
      "}\n",
      "\n",
      "{\n",
      "    \"type\": \"function\",\n",
      "    \"function\": {\n",
      "        \"name\": \"list_habits\",\n",
      "        \"description\": \"Returns a list of all available habits\"\n",
      "    }\n",
      "}\n",
      "\n",
      "{\n",
      "    \"type\": \"function\",\n",
      "    \"function\": {\n",
      "        \"name\": \"habits_for_date\",\n",
      "        \"description\": \"Returns a list of habits scheduled for a date\",\n",
      "        \"parameters\": {\n",
      "            \"type\": \"object\",\n",
      "            \"properties\": {\n",
      "                \"date\": {\n",
      "                    \"type\": \"str\",\n",
      "                    \"description\": \"Date for which to display scheduled habits in ISO format e.g. 2024-11-23\"\n",
      "                }\n",
      "            },\n",
      "            \"required\": [\n",
      "                \"date\"\n",
      "            ]\n",
      "        }\n",
      "    }\n",
      "}\n",
      "\n",
      "{\n",
      "    \"type\": \"function\",\n",
      "    \"function\": {\n",
      "        \"name\": \"complete_habit\",\n",
      "        \"description\": \"Completes a specific habit for a given date\",\n",
      "        \"parameters\": {\n",
      "            \"type\": \"object\",\n",
      "            \"properties\": {\n",
      "                \"habit_id\": {\n",
      "                    \"type\": \"integer\",\n",
      "                    \"description\": \"Id of the habit, e.g. 1\"\n",
      "                },\n",
      "                \"completion_date\": {\n",
      "                    \"type\": \"str\",\n",
      "                    \"description\": \"Date for completion of the habit in ISO format e.g. 2024-11-23\"\n",
      "                }\n",
      "            },\n",
      "            \"required\": [\n",
      "                \"habit_id\",\n",
      "                \"completion_date\"\n",
      "            ]\n",
      "        }\n",
      "    }\n",
      "}\n",
      "Question: Add a new habit for Reading a book every weekday #learning<|eot_id|><|start_header_id|>assistant<|end_header_id|>\n",
      "\n",
      "\n"
     ]
    },
    {
     "data": {
      "text/plain": [
       "Completion(id='cmpl-663ccac93d314b698babae18328b2fa9', choices=[CompletionChoice(finish_reason='stop', index=0, logprobs=None, text='{\"name\": \"add_habit\", \"parameters\": {\"name\": \"Reading a book\", \"repeat_frequency\": \"[\\\\\"MONDAY\\\\\", \\\\\"TUESDAY\\\\\", \\\\\"WEDNESDAY\\\\\", \\\\\"THURSDAY\\\\\", \\\\\"FRIDAY\\\\\"]\", \"tags\": \"[\\\\\"learning\\\\\"]\"}}', stop_reason=None, prompt_logprobs=None)], created=1725572073, model='meta-llama/Meta-Llama-3.1-70B-Instruct', object='text_completion', system_fingerprint=None, usage=CompletionUsage(completion_tokens=60, prompt_tokens=681, total_tokens=741))"
      ]
     },
     "execution_count": 46,
     "metadata": {},
     "output_type": "execute_result"
    }
   ],
   "source": [
    "user_question = \"Add a new habit for Reading a book every weekday #learning\"\n",
    "messages = [\n",
    "    {\n",
    "        \"role\": \"system\",\n",
    "        \"content\":  \"You are a helpful assistant with tool calling capabilities.\"\n",
    "                    \" When you receive a tool call response, use the output to format\"\n",
    "                    \" an answer to the orginal user question.use variables.\"\n",
    "    },\n",
    "    {\n",
    "        \"role\": \"user\",\n",
    "        \"content\": 'Given the following functions, please respond with a JSON for a function'\n",
    "                   ' call with its proper arguments that best answers the given prompt.\\n'\n",
    "                   'Respond in the format {\"name\": function name, \"parameters\": dictionary of argument name and its value}.'\n",
    "                   ' Do not use variables.\\n\\n' +\\\n",
    "                   \"\\n\\n\".join([json.dumps(t, indent=4) for t in TOOLS]) +\\\n",
    "                   f'\\nQuestion: {user_question}'\n",
    "    },\n",
    "    #{\n",
    "    #    \"role\": \"assistant\",\n",
    "    #    \"tool_calls\": [{\"type\": \"function\", \"function\": json.loads('{\"name\": \"add_habit\", \"parameters\": {\"name\": \"Reading a book\", \"repeat_frequency\": \"[\\\\\"MONDAY\\\\\", \\\\\"TUESDAY\\\\\", \\\\\"WEDNESDAY\\\\\", \\\\\"THURSDAY\\\\\", \\\\\"FRIDAY\\\\\"]\", \"tags\": \"[\\\\\"learning\\\\\"]\"}}')}],\n",
    "    #},\n",
    "    #{\n",
    "    #    \"role\": \"ipython\",\n",
    "    #    \"content\": {\"output\": 1},\n",
    "    #},\n",
    "]\n",
    "instruction = tokenizer.apply_chat_template(messages, tokenize=False, add_generation_prompt=True, tools_in_user_message=False)\n",
    "print(instruction)\n",
    "response = openai.completions.create(\n",
    "    model=MODEL,\n",
    "    prompt=instruction,\n",
    "    temperature=0,\n",
    "    max_tokens=3000,\n",
    ")\n",
    "response"
   ]
  },
  {
   "cell_type": "code",
   "execution_count": 47,
   "metadata": {},
   "outputs": [
    {
     "data": {
      "text/plain": [
       "[{'name': 'add_habit',\n",
       "  'parameters': {'name': 'Reading a book',\n",
       "   'repeat_frequency': '[\"MONDAY\", \"TUESDAY\", \"WEDNESDAY\", \"THURSDAY\", \"FRIDAY\"]',\n",
       "   'tags': '[\"learning\"]'}}]"
      ]
     },
     "execution_count": 47,
     "metadata": {},
     "output_type": "execute_result"
    }
   ],
   "source": [
    "tool_calls = [json.loads(choice.text) for choice in response.choices]\n",
    "tool_calls"
   ]
  },
  {
   "cell_type": "code",
   "execution_count": 48,
   "metadata": {},
   "outputs": [
    {
     "name": "stdout",
     "output_type": "stream",
     "text": [
      "{\"name\": \"add_habit\", \"parameters\": {\"name\": \"Reading a book\", \"repeat_frequency\": \"[\\\"MONDAY\\\", \\\"TUESDAY\\\", \\\"WEDNESDAY\\\", \\\"THURSDAY\\\", \\\"FRIDAY\\\"]\", \"tags\": \"[\\\"learning\\\"]\"}}\n"
     ]
    }
   ],
   "source": [
    "print(response.choices[0].text)"
   ]
  },
  {
   "cell_type": "code",
   "execution_count": 49,
   "metadata": {},
   "outputs": [],
   "source": [
    "for tool_call in tool_calls:\n",
    "    function_name = tool_call[\"name\"]\n",
    "    function_to_call = AVAILABLE_FUNCTIONS[function_name]\n",
    "    function_args = tool_call[\"parameters\"] # Notice that the model likes to return \"parameters\" instead if \"arguments\""
   ]
  },
  {
   "cell_type": "code",
   "execution_count": 50,
   "metadata": {},
   "outputs": [],
   "source": [
    "# For some reason LLama 3.1 returns arrays serialized as strings\n",
    "for k,v in function_args.items():\n",
    "    try:\n",
    "        if type(v) == str:\n",
    "            function_args[k] = json.loads(v)\n",
    "    except JSONDecodeError:\n",
    "        pass"
   ]
  },
  {
   "cell_type": "code",
   "execution_count": 51,
   "metadata": {},
   "outputs": [
    {
     "data": {
      "text/plain": [
       "{'name': 'Reading a book',\n",
       " 'repeat_frequency': ['MONDAY', 'TUESDAY', 'WEDNESDAY', 'THURSDAY', 'FRIDAY'],\n",
       " 'tags': ['learning']}"
      ]
     },
     "execution_count": 51,
     "metadata": {},
     "output_type": "execute_result"
    }
   ],
   "source": [
    "function_args"
   ]
  },
  {
   "cell_type": "code",
   "execution_count": 52,
   "metadata": {},
   "outputs": [
    {
     "data": {
      "text/plain": [
       "['repeat_frequency']"
      ]
     },
     "execution_count": 52,
     "metadata": {},
     "output_type": "execute_result"
    }
   ],
   "source": [
    "arguments_to_map = list(set(function_args.keys()) & set(argument_mapping.keys()))\n",
    "arguments_to_map"
   ]
  },
  {
   "cell_type": "code",
   "execution_count": 53,
   "metadata": {},
   "outputs": [
    {
     "data": {
      "text/plain": [
       "<function __main__.<lambda>(day_names)>"
      ]
     },
     "execution_count": 53,
     "metadata": {},
     "output_type": "execute_result"
    }
   ],
   "source": [
    "argument_mapping['repeat_frequency']"
   ]
  },
  {
   "cell_type": "code",
   "execution_count": 54,
   "metadata": {},
   "outputs": [],
   "source": [
    "for arg_name in arguments_to_map:\n",
    "    function_args[arg_name] = argument_mapping[arg_name](function_args[arg_name])"
   ]
  },
  {
   "cell_type": "code",
   "execution_count": 55,
   "metadata": {},
   "outputs": [
    {
     "data": {
      "text/plain": [
       "{'name': 'Reading a book',\n",
       " 'repeat_frequency': [<DayOfWeek.MONDAY: 1>,\n",
       "  <DayOfWeek.TUESDAY: 2>,\n",
       "  <DayOfWeek.WEDNESDAY: 3>,\n",
       "  <DayOfWeek.THURSDAY: 4>,\n",
       "  <DayOfWeek.FRIDAY: 5>],\n",
       " 'tags': ['learning']}"
      ]
     },
     "execution_count": 55,
     "metadata": {},
     "output_type": "execute_result"
    }
   ],
   "source": [
    "function_args"
   ]
  },
  {
   "cell_type": "code",
   "execution_count": 56,
   "metadata": {},
   "outputs": [
    {
     "data": {
      "text/plain": [
       "3"
      ]
     },
     "execution_count": 56,
     "metadata": {},
     "output_type": "execute_result"
    }
   ],
   "source": [
    "function_response = function_to_call(**function_args)\n",
    "function_response"
   ]
  },
  {
   "cell_type": "code",
   "execution_count": 57,
   "metadata": {},
   "outputs": [
    {
     "data": {
      "text/plain": [
       "[Habit(id=1, name='Hit the gym', repeat_frequency={<DayOfWeek.MONDAY: 1>, <DayOfWeek.WEDNESDAY: 3>, <DayOfWeek.FRIDAY: 5>}, tags=['exercise', 'fitness']),\n",
       " Habit(id=2, name='Feed the llamas', repeat_frequency={<DayOfWeek.SATURDAY: 6>, <DayOfWeek.SUNDAY: 7>}, tags=['diet']),\n",
       " Habit(id=3, name='Reading a book', repeat_frequency={<DayOfWeek.FRIDAY: 5>, <DayOfWeek.MONDAY: 1>, <DayOfWeek.WEDNESDAY: 3>, <DayOfWeek.THURSDAY: 4>, <DayOfWeek.TUESDAY: 2>}, tags=['learning'])]"
      ]
     },
     "execution_count": 57,
     "metadata": {},
     "output_type": "execute_result"
    }
   ],
   "source": [
    "list_habits()"
   ]
  },
  {
   "cell_type": "code",
   "execution_count": 58,
   "metadata": {},
   "outputs": [],
   "source": [
    "def map_arguments(function_args: dict, argument_mapping: dict = argument_mapping):\n",
    "    arguments_to_map = list(set(function_args.keys()) & set(argument_mapping.keys()))\n",
    "    for arg_name in arguments_to_map:\n",
    "        function_args[arg_name] = argument_mapping[arg_name](function_args[arg_name])\n",
    "    return function_args"
   ]
  },
  {
   "cell_type": "code",
   "execution_count": 59,
   "metadata": {},
   "outputs": [],
   "source": [
    "from dataclasses import dataclass, asdict, is_dataclass\n",
    "\n",
    "class DataClassEncoder(json.JSONEncoder):\n",
    "    def default(self, obj):\n",
    "        if is_dataclass(obj):\n",
    "            return asdict(obj)\n",
    "        return super().default(obj)\n",
    "\n",
    "def call_model(messages):\n",
    "    instruction = tokenizer.apply_chat_template(messages, tokenize=False, add_generation_prompt=True, tools_in_user_message=False)\n",
    "    #print(instruction)\n",
    "    \n",
    "    response = openai.completions.create(\n",
    "        model=MODEL,\n",
    "        prompt=instruction,\n",
    "        temperature=0,\n",
    "        max_tokens=3000,\n",
    "    )\n",
    "\n",
    "    assert len(response.choices) == 1, \"Don't know how to handle multiple choices\"\n",
    "    return response.choices[0].text\n",
    "\n",
    "\n",
    "def user_message(tools, user_query):\n",
    "    # Note: here is an addition to the prompt because functions that don't return anything confuse the model.\n",
    "    return {\n",
    "        \"role\": \"user\",\n",
    "        \"content\": 'Given the following functions, please respond with a JSON for a function'\n",
    "                   ' call with its proper arguments that best answers the given prompt.\\n'\n",
    "                   'Respond in the format {\"name\": function name, \"parameters\": dictionary of argument name and its value}.'\n",
    "                   ' Do not use variables. If the function output is empty write an aswer based on the user query explaining what has been done.\\n\\n' +\\\n",
    "                   \"\\n\\n\".join([json.dumps(t, indent=4) for t in tools]) +\\\n",
    "                   f'\\nQuestion: {user_query}'\n",
    "    }\n",
    "\n",
    "def call_function(prompt, messages: List) -> List:\n",
    "    messages.append(user_message(TOOLS, prompt))\n",
    "    \n",
    "    response_message = call_model(messages)\n",
    "    messages.append({\n",
    "        \"role\": \"assistant\",\n",
    "        \"content\": response_message\n",
    "    })\n",
    "\n",
    "    #print(f\"{response_message=}\")\n",
    "    tool_calls = [json.loads(response_message)]\n",
    "\n",
    "    for tool_call in tool_calls:\n",
    "        function_name = tool_call[\"name\"]\n",
    "        function_to_call = AVAILABLE_FUNCTIONS[function_name]\n",
    "        function_args = tool_call[\"parameters\"]\n",
    "        for k,v in function_args.items():\n",
    "            try:\n",
    "                if type(v) == str:\n",
    "                    function_args[k] = json.loads(v)\n",
    "            except JSONDecodeError:\n",
    "                pass\n",
    "\n",
    "        function_args = map_arguments(function_args, argument_mapping)\n",
    "\n",
    "        function_response = function_to_call(**function_args)\n",
    "        #print(f\"{function_response=}\")\n",
    "        if function_response is not None:\n",
    "            function_response = json.loads(json.dumps(function_response, cls=DataClassEncoder))\n",
    "        else:\n",
    "            function_response = {}\n",
    "        messages.append(\n",
    "            {\n",
    "                \"role\": \"tool\",\n",
    "                \"content\": {\"output\": function_response},\n",
    "            }\n",
    "        )\n",
    "        response_message = call_model(messages)\n",
    "        messages.append({\"role\": \"assistant\", \"content\": response_message})\n",
    "    return messages\n",
    "\n",
    "def start_messages():\n",
    "    return [\n",
    "        {\n",
    "            \"role\": \"system\",\n",
    "            \"content\":  \"You are a helpful assistant with tool calling capabilities.\"\n",
    "                        \" When you receive a tool call response, use the output to format\"\n",
    "                        \" an answer to the orginal user question.use variables.\"\n",
    "        },\n",
    "    ]\n",
    "\n",
    "\n",
    "messages = start_messages()"
   ]
  },
  {
   "cell_type": "code",
   "execution_count": 60,
   "metadata": {},
   "outputs": [
    {
     "name": "stdout",
     "output_type": "stream",
     "text": [
      "Habits for 2024-07-26:\n",
      "- Hit the gym (ID: 1): Not completed\n",
      "  Tags: exercise, fitness\n",
      "- Reading a book (ID: 3): Not completed\n",
      "  Tags: learning\n"
     ]
    }
   ],
   "source": [
    "today = date(2024, 7, 26)\n",
    "show_habits_for_date(today)"
   ]
  },
  {
   "cell_type": "code",
   "execution_count": 61,
   "metadata": {},
   "outputs": [
    {
     "name": "stdout",
     "output_type": "stream",
     "text": [
      "Here are the habits scheduled for 2024-07-26:\n",
      "\n",
      "1. Hit the gym (Tags: exercise, fitness) - Not completed\n",
      "2. Reading a book (Tags: learning) - Not completed\n"
     ]
    }
   ],
   "source": [
    "user_prompt = f\"Show all habits for today - {today.isoformat()}\"\n",
    "result = call_function(user_prompt, messages)\n",
    "print(result[-1][\"content\"])"
   ]
  },
  {
   "cell_type": "code",
   "execution_count": 62,
   "metadata": {},
   "outputs": [
    {
     "name": "stdout",
     "output_type": "stream",
     "text": [
      "The habit with id 1 (gym) has been completed for 2024-07-26.\n"
     ]
    }
   ],
   "source": [
    "user_prompt = f\"Complete the gym habit for {today.isoformat()}\"\n",
    "result = call_function(user_prompt, start_messages())\n",
    "print(result[-1][\"content\"])"
   ]
  },
  {
   "cell_type": "code",
   "execution_count": 63,
   "metadata": {},
   "outputs": [
    {
     "name": "stdout",
     "output_type": "stream",
     "text": [
      "Habits for 2024-07-26:\n",
      "- Hit the gym (ID: 1): Completed\n",
      "  Tags: exercise, fitness\n",
      "- Reading a book (ID: 3): Not completed\n",
      "  Tags: learning\n"
     ]
    }
   ],
   "source": [
    "show_habits_for_date(today)"
   ]
  },
  {
   "cell_type": "code",
   "execution_count": null,
   "metadata": {},
   "outputs": [],
   "source": []
  }
 ],
 "metadata": {
  "kernelspec": {
   "display_name": "jupyter",
   "language": "python",
   "name": "python3"
  },
  "language_info": {
   "codemirror_mode": {
    "name": "ipython",
    "version": 3
   },
   "file_extension": ".py",
   "mimetype": "text/x-python",
   "name": "python",
   "nbconvert_exporter": "python",
   "pygments_lexer": "ipython3",
   "version": "3.11.8"
  }
 },
 "nbformat": 4,
 "nbformat_minor": 2
}
